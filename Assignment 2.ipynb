{
 "cells": [
  {
   "cell_type": "code",
   "execution_count": 5,
   "metadata": {},
   "outputs": [
    {
     "name": "stdout",
     "output_type": "stream",
     "text": [
      "Enter a Stringayush jain\n",
      "Lenght of string is: 10\n"
     ]
    }
   ],
   "source": [
    "#Q1.\n",
    "a=input(\"Enter a String\")\n",
    "count=0\n",
    "for i in a:\n",
    "    count=count+1\n",
    "print(\"Lenght of string is:\",count)\n"
   ]
  },
  {
   "cell_type": "code",
   "execution_count": 7,
   "metadata": {},
   "outputs": [
    {
     "name": "stdout",
     "output_type": "stream",
     "text": [
      "Enter a stringayush\n",
      "Enter a stringjain\n",
      "ayushjain\n"
     ]
    }
   ],
   "source": [
    "#Q2.\n",
    "s1=input(\"Enter a string\")\n",
    "s2=input(\"Enter a string\")\n",
    "print(s1+s2)"
   ]
  },
  {
   "cell_type": "code",
   "execution_count": 3,
   "metadata": {},
   "outputs": [
    {
     "name": "stdout",
     "output_type": "stream",
     "text": [
      "Enter a stringayush jain 30 october\n",
      "Number of digits is: 2\n",
      "NUmber of letters is: 16\n"
     ]
    }
   ],
   "source": [
    "#Q3.\n",
    "a=input(\"Enter a string\")\n",
    "count1=0\n",
    "count2=0\n",
    "for i in a:\n",
    "    if(i.isdigit()):\n",
    "        count1=count1+1\n",
    "    if(i.isalpha()):\n",
    "        count2=count2+1\n",
    "print(\"Number of digits is:\",count1)\n",
    "print(\"NUmber of letters is:\",count2)\n"
   ]
  },
  {
   "cell_type": "code",
   "execution_count": 6,
   "metadata": {},
   "outputs": [
    {
     "name": "stdout",
     "output_type": "stream",
     "text": [
      "Enter a string: ayush\n",
      "AYUSH\n"
     ]
    }
   ],
   "source": [
    "#Q4.\n",
    "a=input(\"Enter a string: \")\n",
    "print(a.upper())"
   ]
  },
  {
   "cell_type": "code",
   "execution_count": 8,
   "metadata": {},
   "outputs": [
    {
     "name": "stdout",
     "output_type": "stream",
     "text": [
      "Enter a string: ayushJAIN\n",
      "Lower case is  5\n",
      "Upper case is  4\n"
     ]
    }
   ],
   "source": [
    "#Q5.\n",
    "a=input(\"Enter a string: \")\n",
    "count1=0\n",
    "count2=0\n",
    "for i in a:\n",
    "    if(i.isupper()):\n",
    "        count1=count1+1\n",
    "    if(i.islower()):\n",
    "        count2=count2+1\n",
    "print(\"Lower case is \",count2)\n",
    "print(\"Upper case is \",count1)"
   ]
  },
  {
   "cell_type": "code",
   "execution_count": 14,
   "metadata": {},
   "outputs": [
    {
     "name": "stdout",
     "output_type": "stream",
     "text": [
      "Enter a string: ayushJAIN\n",
      "AYUSHjain"
     ]
    }
   ],
   "source": [
    "#Q6.\n",
    "a=input(\"Enter a string: \")\n",
    "for i in a:\n",
    "    if(i.isupper()):\n",
    "        print(i.lower(),end='')\n",
    "    else:\n",
    "        print(i.upper(),end='')"
   ]
  },
  {
   "cell_type": "code",
   "execution_count": 16,
   "metadata": {},
   "outputs": [
    {
     "name": "stdout",
     "output_type": "stream",
     "text": [
      "Enter a string : ayushjain\n",
      "Enter a letter that you want to checka\n",
      "count of  a  is 2\n"
     ]
    }
   ],
   "source": [
    "#Q7.\n",
    "a=input(\"Enter a string : \")\n",
    "b=input(\"Enter a letter that you want to check\")\n",
    "count=0\n",
    "for i in a:\n",
    "    if(i==b):\n",
    "        count=count+1\n",
    "    else:\n",
    "        continue\n",
    "print(\"count of \",b,\" is\",count)"
   ]
  },
  {
   "cell_type": "code",
   "execution_count": 4,
   "metadata": {},
   "outputs": [
    {
     "name": "stdout",
     "output_type": "stream",
     "text": [
      "Enter a string : abccba\n",
      "It is a palindrome \n"
     ]
    }
   ],
   "source": [
    "#Q8.\n",
    "a=input(\"Enter a string : \")\n",
    "b=a[::-1]\n",
    "if(a==b):\n",
    "    print(\"It is a palindrome \")\n",
    "else:\n",
    "    print(\"It is not a palindrome\")"
   ]
  },
  {
   "cell_type": "code",
   "execution_count": 18,
   "metadata": {},
   "outputs": [
    {
     "name": "stdout",
     "output_type": "stream",
     "text": [
      "Enter a string : hello\n",
      "Enter index:0\n",
      "Enter a character that you want to change j\n",
      "['j', 'e', 'l', 'l', 'o']\n"
     ]
    }
   ],
   "source": [
    "#Q9.\n",
    "a=input(\"Enter a string : \")\n",
    "b=int(input(\"Enter index:\"))\n",
    "c=input(\"Enter a character that you want to change \")\n",
    "d=list(a)\n",
    "d[b]=c\n",
    "a=str(d)\n",
    "print(\"\".join(map(str,a)))"
   ]
  },
  {
   "cell_type": "code",
   "execution_count": 2,
   "metadata": {},
   "outputs": [
    {
     "name": "stdout",
     "output_type": "stream",
     "text": [
      "Enter a string: ayushayushayush ayushjain\n",
      "Enter a substring: ayush\n",
      "4\n"
     ]
    }
   ],
   "source": [
    "#Q10.\n",
    "a=input(\"Enter a string: \")\n",
    "b=input(\"Enter a substring: \")\n",
    "print(a.count(b))"
   ]
  },
  {
   "cell_type": "code",
   "execution_count": 3,
   "metadata": {},
   "outputs": [
    {
     "name": "stdout",
     "output_type": "stream",
     "text": [
      "Enter a binary number 100111110001111\n",
      "Enter k4\n",
      "True\n"
     ]
    }
   ],
   "source": [
    "#Q11\n",
    "a=input(\"Enter a binary number \")\n",
    "k=int(input(\"Enter k\"))\n",
    "numbers='1'*k\n",
    "if numbers in a:\n",
    "    print(\"True\")\n",
    "else:\n",
    "    print(\"False\")\n"
   ]
  },
  {
   "cell_type": "code",
   "execution_count": 6,
   "metadata": {},
   "outputs": [
    {
     "name": "stdout",
     "output_type": "stream",
     "text": [
      "Enter a string :ayush\n",
      "hsuya\n"
     ]
    }
   ],
   "source": [
    "#Q12\n",
    "a=input(\"Enter a string :\")\n",
    "print(a[::-1])"
   ]
  },
  {
   "cell_type": "code",
   "execution_count": 7,
   "metadata": {},
   "outputs": [],
   "source": [
    "#Q13.\n"
   ]
  },
  {
   "cell_type": "code",
   "execution_count": 8,
   "metadata": {},
   "outputs": [
    {
     "name": "stdout",
     "output_type": "stream",
     "text": [
      "Enter a string: ayush jain 30 oct\n",
      "Enter a string: oct\n",
      "Yes\n"
     ]
    }
   ],
   "source": [
    "#Q14.\n",
    "s1=input(\"Enter a string: \")\n",
    "s2=input(\"Enter a string: \")\n",
    "x=s1.count(s2)\n",
    "if(x>=1):\n",
    "    print(\"Yes\")\n",
    "else:\n",
    "    print(\"No\")"
   ]
  },
  {
   "cell_type": "code",
   "execution_count": 2,
   "metadata": {},
   "outputs": [
    {
     "name": "stdout",
     "output_type": "stream",
     "text": [
      "Enter the passwords that you want to check :ayushjain30Oct@\n"
     ]
    },
    {
     "ename": "TypeError",
     "evalue": "list indices must be integers or slices, not str",
     "output_type": "error",
     "traceback": [
      "\u001b[1;31m---------------------------------------------------------------------------\u001b[0m",
      "\u001b[1;31mTypeError\u001b[0m                                 Traceback (most recent call last)",
      "\u001b[1;32m<ipython-input-2-c672bcb15877>\u001b[0m in \u001b[0;36m<module>\u001b[1;34m\u001b[0m\n\u001b[0;32m      4\u001b[0m \u001b[0mb\u001b[0m\u001b[1;33m=\u001b[0m\u001b[0mlist\u001b[0m\u001b[1;33m(\u001b[0m\u001b[0ma\u001b[0m\u001b[1;33m.\u001b[0m\u001b[0msplit\u001b[0m\u001b[1;33m(\u001b[0m\u001b[1;34m\",\"\u001b[0m\u001b[1;33m)\u001b[0m\u001b[1;33m)\u001b[0m\u001b[1;33m\u001b[0m\u001b[1;33m\u001b[0m\u001b[0m\n\u001b[0;32m      5\u001b[0m \u001b[1;32mfor\u001b[0m \u001b[0mi\u001b[0m \u001b[1;32min\u001b[0m \u001b[0mb\u001b[0m\u001b[1;33m:\u001b[0m\u001b[1;33m\u001b[0m\u001b[1;33m\u001b[0m\u001b[0m\n\u001b[1;32m----> 6\u001b[1;33m     \u001b[1;32mif\u001b[0m\u001b[1;33m(\u001b[0m\u001b[0mb\u001b[0m\u001b[1;33m[\u001b[0m\u001b[0mi\u001b[0m\u001b[1;33m]\u001b[0m\u001b[1;33m.\u001b[0m\u001b[0mlen\u001b[0m\u001b[1;33m(\u001b[0m\u001b[1;33m)\u001b[0m\u001b[1;33m>=\u001b[0m\u001b[1;36m6\u001b[0m \u001b[1;32mand\u001b[0m \u001b[0mb\u001b[0m\u001b[1;33m[\u001b[0m\u001b[0mi\u001b[0m\u001b[1;33m]\u001b[0m\u001b[1;33m.\u001b[0m\u001b[0mlen\u001b[0m\u001b[1;33m(\u001b[0m\u001b[1;33m)\u001b[0m\u001b[1;33m<=\u001b[0m\u001b[1;36m12\u001b[0m\u001b[1;33m)\u001b[0m\u001b[1;33m:\u001b[0m\u001b[1;33m\u001b[0m\u001b[1;33m\u001b[0m\u001b[0m\n\u001b[0m\u001b[0;32m      7\u001b[0m         \u001b[1;32mif\u001b[0m\u001b[1;33m(\u001b[0m\u001b[0mb\u001b[0m\u001b[1;33m[\u001b[0m\u001b[0mi\u001b[0m\u001b[1;33m]\u001b[0m\u001b[1;33m.\u001b[0m\u001b[0misupper\u001b[0m\u001b[1;33m(\u001b[0m\u001b[1;33m)\u001b[0m \u001b[1;32mand\u001b[0m \u001b[0mb\u001b[0m\u001b[1;33m[\u001b[0m\u001b[0mi\u001b[0m\u001b[1;33m]\u001b[0m\u001b[1;33m.\u001b[0m\u001b[0mislower\u001b[0m\u001b[1;33m)\u001b[0m\u001b[1;33m:\u001b[0m\u001b[1;33m\u001b[0m\u001b[1;33m\u001b[0m\u001b[0m\n\u001b[0;32m      8\u001b[0m             \u001b[1;32mif\u001b[0m\u001b[1;33m(\u001b[0m\u001b[0mb\u001b[0m\u001b[1;33m[\u001b[0m\u001b[0mi\u001b[0m\u001b[1;33m]\u001b[0m\u001b[1;33m.\u001b[0m\u001b[0misdigit\u001b[0m\u001b[1;33m(\u001b[0m\u001b[1;33m)\u001b[0m\u001b[1;33m)\u001b[0m\u001b[1;33m:\u001b[0m\u001b[1;33m\u001b[0m\u001b[1;33m\u001b[0m\u001b[0m\n",
      "\u001b[1;31mTypeError\u001b[0m: list indices must be integers or slices, not str"
     ]
    }
   ],
   "source": [
    "#Q15.\n",
    "b=[]\n",
    "a=input(\"Enter the passwords that you want to check :\")\n",
    "b=list(a.split(\",\"))\n",
    "for i in b:\n",
    "    if(b[i].len()>=6 and b[i].len()<=12):\n",
    "        if(b[i].isupper() and b[i].islower):\n",
    "            if(b[i].isdigit()):\n",
    "                for i in b:\n",
    "                    if(i=='$' or i=='@' or i=='#'):\n",
    "                        print(b[i])\n",
    "    else:\n",
    "        continue"
   ]
  },
  {
   "cell_type": "code",
   "execution_count": null,
   "metadata": {},
   "outputs": [],
   "source": []
  }
 ],
 "metadata": {
  "kernelspec": {
   "display_name": "Python 3",
   "language": "python",
   "name": "python3"
  },
  "language_info": {
   "codemirror_mode": {
    "name": "ipython",
    "version": 3
   },
   "file_extension": ".py",
   "mimetype": "text/x-python",
   "name": "python",
   "nbconvert_exporter": "python",
   "pygments_lexer": "ipython3",
   "version": "3.7.3"
  }
 },
 "nbformat": 4,
 "nbformat_minor": 2
}
