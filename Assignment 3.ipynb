{
 "cells": [
  {
   "cell_type": "code",
   "execution_count": 1,
   "metadata": {},
   "outputs": [
    {
     "name": "stdout",
     "output_type": "stream",
     "text": [
      "Enter a number : 2\n",
      "Enter a number : 3\n",
      "8\n"
     ]
    }
   ],
   "source": [
    "#Q1.\n",
    "def func1(x,y):\n",
    "    return x**y\n",
    "x=int(input(\"Enter a number : \"))\n",
    "y=int(input(\"Enter a number : \"))\n",
    "z=func1(x,y)\n",
    "print(z)"
   ]
  },
  {
   "cell_type": "code",
   "execution_count": 24,
   "metadata": {},
   "outputs": [],
   "source": [
    "#Q2.\n",
    "\n",
    "def func(s1,s2):\n",
    "    if(len(s1)==0 or len(s2)==0):\n",
    "        return \"Hello\"+\"World\"\n",
    "    else:\n",
    "        return s1+s2\n",
    "\n",
    "\n",
    "\n",
    "\n"
   ]
  },
  {
   "cell_type": "code",
   "execution_count": 25,
   "metadata": {},
   "outputs": [
    {
     "name": "stdout",
     "output_type": "stream",
     "text": [
      "\n",
      "\n",
      "HelloWorld\n"
     ]
    }
   ],
   "source": [
    "s4=input()\n",
    "s5=input()\n",
    "s3=func(s4,s5)\n",
    "print(s3)"
   ]
  },
  {
   "cell_type": "code",
   "execution_count": 30,
   "metadata": {},
   "outputs": [
    {
     "name": "stdout",
     "output_type": "stream",
     "text": [
      "Enter a number : 43\n",
      "Odd\n"
     ]
    }
   ],
   "source": [
    "#Q3.\n",
    "def func1(x):\n",
    "    if(x%2==0):\n",
    "        return 1\n",
    "    else:\n",
    "        return 0\n",
    "a=int(input(\"Enter a number : \"))\n",
    "if(func1(a)):\n",
    "    print(\"Even\")\n",
    "else:\n",
    "    print(\"Odd\")"
   ]
  },
  {
   "cell_type": "code",
   "execution_count": 32,
   "metadata": {},
   "outputs": [],
   "source": [
    "#Q4.\n",
    "def prime(x):\n",
    "    flag=1\n",
    "    for i in range(2,(x//2)+1):\n",
    "        if(x%i==0):\n",
    "            flag=0\n",
    "        else:\n",
    "            continue\n",
    "    if(flag==1):\n",
    "        return 1\n",
    "    else:\n",
    "        return 0"
   ]
  },
  {
   "cell_type": "code",
   "execution_count": 34,
   "metadata": {},
   "outputs": [
    {
     "name": "stdout",
     "output_type": "stream",
     "text": [
      "Enter a number : 31\n",
      "Prime\n"
     ]
    }
   ],
   "source": [
    "a=int(input(\"Enter a number : \"))\n",
    "y=prime(a)\n",
    "if(y):\n",
    "    print(\"Prime\")\n",
    "else:\n",
    "    print(\"Not Prime\")"
   ]
  },
  {
   "cell_type": "code",
   "execution_count": 35,
   "metadata": {},
   "outputs": [],
   "source": [
    "#Q5.\n",
    "def palindrome(x):\n",
    "    a=x\n",
    "    b=a[::-1]\n",
    "    if(a==b):\n",
    "        return 1\n",
    "    else:\n",
    "        return 0"
   ]
  },
  {
   "cell_type": "code",
   "execution_count": 39,
   "metadata": {},
   "outputs": [
    {
     "name": "stdout",
     "output_type": "stream",
     "text": [
      "Enter input1221\n",
      "Palindrome\n"
     ]
    }
   ],
   "source": [
    "a=input(\"Enter input\")\n",
    "if(palindrome(a)):\n",
    "    print(\"Palindrome\")\n",
    "else:\n",
    "    print(\"Not a palindrome\")"
   ]
  },
  {
   "cell_type": "code",
   "execution_count": 41,
   "metadata": {},
   "outputs": [
    {
     "name": "stdout",
     "output_type": "stream",
     "text": [
      "Enter a string: ayush jain is a good boy\n",
      "Number of words are  6\n"
     ]
    }
   ],
   "source": [
    "#Q6.\n",
    "a=input(\"Enter a string: \")\n",
    "b=a.split(\" \")\n",
    "c=len(b)\n",
    "print(\"Number of words are \",c)"
   ]
  },
  {
   "cell_type": "code",
   "execution_count": 3,
   "metadata": {},
   "outputs": [
    {
     "name": "stdout",
     "output_type": "stream",
     "text": [
      "Enter 3 inputs4,9,2\n",
      "Maximum of 3 numbers is  9\n"
     ]
    }
   ],
   "source": [
    "#Q7.\n",
    "a=input(\"Enter 3 inputs\")\n",
    "b=a.split(\",\")\n",
    "print(\"Maximum of 3 numbers is \",max(b))"
   ]
  },
  {
   "cell_type": "code",
   "execution_count": 16,
   "metadata": {},
   "outputs": [
    {
     "name": "stdout",
     "output_type": "stream",
     "text": [
      "Enter a number n1 : 10\n",
      "Enter a number n2 : 4\n",
      "5\n",
      "11\n",
      "14\n",
      "17\n",
      "23\n",
      "26\n",
      "29\n",
      "35\n",
      "38\n",
      "41\n"
     ]
    }
   ],
   "source": [
    "#Q8.\n",
    "n1=int(input(\"Enter a number n1 : \"))\n",
    "n2=int(input(\"Enter a number n2 : \"))\n",
    "count=0\n",
    "for i in range(1,n1+1):\n",
    "    x=(3*i)+2\n",
    "    if(x%n2 ==0):\n",
    "        count=count+1\n",
    "    else:\n",
    "        continue\n",
    "for i in range(1,n1+count+1):\n",
    "    x=(3*i)+2\n",
    "    if(x%n2 != 0):\n",
    "        print(x)"
   ]
  },
  {
   "cell_type": "code",
   "execution_count": 13,
   "metadata": {},
   "outputs": [
    {
     "name": "stdout",
     "output_type": "stream",
     "text": [
      "Enter a number1002983\n",
      "3892001\n"
     ]
    }
   ],
   "source": [
    "#Q9.\n",
    "n=input(\"Enter a number\")\n",
    "print(n[::-1])\n",
    "\n",
    "\n",
    "\n",
    "\n",
    "\n"
   ]
  },
  {
   "cell_type": "code",
   "execution_count": 14,
   "metadata": {},
   "outputs": [],
   "source": [
    "#Q10.\n",
    "#Same as Question 7"
   ]
  },
  {
   "cell_type": "code",
   "execution_count": 21,
   "metadata": {},
   "outputs": [
    {
     "name": "stdout",
     "output_type": "stream",
     "text": [
      "Enter a number : 102920083\n",
      "152925583\n"
     ]
    }
   ],
   "source": [
    "#Q11.\n",
    "a=input(\"Enter a number : \")\n",
    "c=a.replace(\"0\",\"5\")\n",
    "print(c)\n",
    "  "
   ]
  },
  {
   "cell_type": "code",
   "execution_count": 22,
   "metadata": {},
   "outputs": [
    {
     "name": "stdout",
     "output_type": "stream",
     "text": [
      "Enter a number : 12\n",
      "12\n",
      "24\n",
      "36\n",
      "48\n",
      "60\n",
      "72\n",
      "84\n",
      "96\n",
      "108\n",
      "120\n"
     ]
    }
   ],
   "source": [
    "#Q12.\n",
    "a=int(input(\"Enter a number : \"))\n",
    "for i in range(1,11):\n",
    "    print(i*a)"
   ]
  },
  {
   "cell_type": "code",
   "execution_count": 23,
   "metadata": {},
   "outputs": [
    {
     "name": "stdout",
     "output_type": "stream",
     "text": [
      "Enter a number : 1845\n",
      "18\n"
     ]
    }
   ],
   "source": [
    "#Q13.\n",
    "a=int(input('Enter a number : '))\n",
    "temp=a\n",
    "sum=0\n",
    "while(temp!=0):\n",
    "    rem=temp%10\n",
    "    sum=sum+rem\n",
    "    temp=temp//10\n",
    "print(sum)"
   ]
  },
  {
   "cell_type": "code",
   "execution_count": 4,
   "metadata": {},
   "outputs": [
    {
     "name": "stdout",
     "output_type": "stream",
     "text": [
      "Enter a input : ajhhdkk_+!(#(@()@>?>@(#*\n",
      "!@()-[]{};:\\,.<>/?#$%^&*_~!@()-[]{};:\\,.<>/?#$%^&*_~!@()-[]{};:\\,.<>/?#$%^&*_~!@()-[]{};:\\,.<>/?#$%^&*_~!@()-[]{};:\\,.<>/?#$%^&*_~!@()-[]{};:\\,.<>/?#$%^&*_~!@()-[]{};:\\,.<>/?#$%^&*_~!@()-[]{};:\\,.<>/?#$%^&*_~!@()-[]{};:\\,.<>/?#$%^&*_~!@()-[]{};:\\,.<>/?#$%^&*_~!@()-[]{};:\\,.<>/?#$%^&*_~!@()-[]{};:\\,.<>/?#$%^&*_~!@()-[]{};:\\,.<>/?#$%^&*_~!@()-[]{};:\\,.<>/?#$%^&*_~!@()-[]{};:\\,.<>/?#$%^&*_~!@()-[]{};:\\,.<>/?#$%^&*_~!@()-[]{};:\\,.<>/?#$%^&*_~!@()-[]{};:\\,.<>/?#$%^&*_~!@()-[]{};:\\,.<>/?#$%^&*_~!@()-[]{};:\\,.<>/?#$%^&*_~!@()-[]{};:\\,.<>/?#$%^&*_~!@()-[]{};:\\,.<>/?#$%^&*_~!@()-[]{};:\\,.<>/?#$%^&*_~!@()-[]{};:\\,.<>/?#$%^&*_~\n"
     ]
    }
   ],
   "source": [
    "#Q14.\n",
    "a=input(\"Enter a input : \")\n",
    "punc=\"!@()-[]{};:\"\"\\,.<>/?#$%^&*_~\"\n",
    "new_str=\"\"\n",
    "for char in a:\n",
    "    for char in punc:\n",
    "        if(char!=punc):\n",
    "            new_str=new_str+char\n",
    "print(new_str)"
   ]
  },
  {
   "cell_type": "code",
   "execution_count": 25,
   "metadata": {},
   "outputs": [
    {
     "name": "stdout",
     "output_type": "stream",
     "text": [
      "Enter a string : 4321\n",
      "1234\n"
     ]
    }
   ],
   "source": [
    "#Q15.\n",
    "a=input(\"Enter a string : \")\n",
    "print(a[::-1])"
   ]
  },
  {
   "cell_type": "code",
   "execution_count": null,
   "metadata": {},
   "outputs": [],
   "source": []
  },
  {
   "cell_type": "code",
   "execution_count": null,
   "metadata": {},
   "outputs": [],
   "source": []
  }
 ],
 "metadata": {
  "kernelspec": {
   "display_name": "Python 3",
   "language": "python",
   "name": "python3"
  },
  "language_info": {
   "codemirror_mode": {
    "name": "ipython",
    "version": 3
   },
   "file_extension": ".py",
   "mimetype": "text/x-python",
   "name": "python",
   "nbconvert_exporter": "python",
   "pygments_lexer": "ipython3",
   "version": "3.7.3"
  }
 },
 "nbformat": 4,
 "nbformat_minor": 2
}
